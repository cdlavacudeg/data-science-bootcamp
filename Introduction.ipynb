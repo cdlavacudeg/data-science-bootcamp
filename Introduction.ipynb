{
 "cells": [
  {
   "cell_type": "markdown",
   "metadata": {},
   "source": [
    "# Numpy Fundamentals\n",
    "[Link](https://www.youtube.com/watch?v=rN0TREj8G7U&t=36s)"
   ]
  },
  {
   "cell_type": "markdown",
   "metadata": {},
   "source": [
    "## What & why\n",
    "- What is NumPy?\n",
    "  - NumPy stands for Numerical Python\n",
    "  It is an open - source Python library\n",
    "  - It is used for working with numerical data in Python\n",
    "- Why NumPy?\n",
    "    - Makes the numerical computations easier and faster\n",
    "    - Consumes less memory"
   ]
  },
  {
   "cell_type": "code",
   "execution_count": 1,
   "metadata": {},
   "outputs": [
    {
     "data": {
      "text/plain": [
       "array([1, 2, 3])"
      ]
     },
     "execution_count": 1,
     "metadata": {},
     "output_type": "execute_result"
    }
   ],
   "source": [
    "import numpy as np\n",
    "a=np.array([1,2,3])\n",
    "a"
   ]
  },
  {
   "cell_type": "code",
   "execution_count": 2,
   "metadata": {},
   "outputs": [
    {
     "name": "stdout",
     "output_type": "stream",
     "text": [
      "28000\n",
      "4000\n"
     ]
    }
   ],
   "source": [
    "# Comparation with python list\n",
    "\n",
    "import time\n",
    "import sys\n",
    "# Firt the size of data\n",
    "l=range(1000)\n",
    "print(sys.getsizeof(1)*len(l))\n",
    "\n",
    "array=np.arange(1000)\n",
    "print(array.size * array.itemsize)"
   ]
  },
  {
   "cell_type": "code",
   "execution_count": 3,
   "metadata": {},
   "outputs": [
    {
     "name": "stdout",
     "output_type": "stream",
     "text": [
      "python list took:  168.11084747314453\n",
      "numpy array took:  14.007568359375\n"
     ]
    }
   ],
   "source": [
    "# Second the time (faster)\n",
    "SIZE=1000000\n",
    "l1=range(SIZE)\n",
    "l2=range(SIZE)\n",
    "\n",
    "a1=np.arange(SIZE)\n",
    "a2=np.arange(SIZE)\n",
    "# Python list\n",
    "start= time.time()\n",
    "result=[(x+y)for x,y in zip(l1,l2)]\n",
    "print(\"python list took: \",(time.time()-start)*1000)\n",
    "# Numpy array\n",
    "start=time.time()\n",
    "result=a1+a2\n",
    "print(\"numpy array took: \",(time.time()-start)*1000)"
   ]
  },
  {
   "cell_type": "code",
   "execution_count": 4,
   "metadata": {},
   "outputs": [
    {
     "data": {
      "text/plain": [
       "array([5, 7, 9])"
      ]
     },
     "execution_count": 4,
     "metadata": {},
     "output_type": "execute_result"
    }
   ],
   "source": [
    "a1=np.array([1,2,3])\n",
    "a2=np.array([4,5,6])\n",
    "a2+a1 # substraction,multiplycation, divition"
   ]
  },
  {
   "cell_type": "markdown",
   "metadata": {},
   "source": [
    "# Pandas Introduction"
   ]
  },
  {
   "cell_type": "markdown",
   "metadata": {},
   "source": [
    "- What is Pandas?\n",
    "    - Officially stands for Python Data Analysis Library\n",
    "    - It is an open - source Python library\n",
    "    - It is a tool used by data scientists to read, write, manipulate and analyse the data.\n",
    "- Why Pandas?\n",
    "    - It helps you to explore and manipulate data in an efficient manner\n",
    "    - It helps you to analyse large volumes of data with ease. When we say large volumes it is in millions of rows/records.\n",
    "- Why Pandas is so popular?\n",
    "    - Easy to read and learn\n",
    "    - Extremely fast and powerful\n",
    "    - Integrates well with other visualisation libraries"
   ]
  },
  {
   "cell_type": "markdown",
   "metadata": {},
   "source": [
    "## [Essential Introduction to Pandas Data frame](https://www.youtube.com/watch?v=h8b2pvBT11I&t=120s)"
   ]
  },
  {
   "cell_type": "code",
   "execution_count": 5,
   "metadata": {},
   "outputs": [],
   "source": [
    "import pandas as pd\n",
    "%matplotlib inline\n",
    "import matplotlib.pyplot as plt\n",
    "import pandas_datareader as pdr"
   ]
  },
  {
   "cell_type": "code",
   "execution_count": 11,
   "metadata": {},
   "outputs": [],
   "source": [
    "amzn= pdr.get_data_yahoo('AMZN','2012-11-01')\n",
    "goog= pdr.get_data_yahoo('GOOG','2012-11-01')"
   ]
  },
  {
   "cell_type": "code",
   "execution_count": 12,
   "metadata": {},
   "outputs": [
    {
     "data": {
      "text/html": [
       "<div>\n",
       "<style scoped>\n",
       "    .dataframe tbody tr th:only-of-type {\n",
       "        vertical-align: middle;\n",
       "    }\n",
       "\n",
       "    .dataframe tbody tr th {\n",
       "        vertical-align: top;\n",
       "    }\n",
       "\n",
       "    .dataframe thead th {\n",
       "        text-align: right;\n",
       "    }\n",
       "</style>\n",
       "<table border=\"1\" class=\"dataframe\">\n",
       "  <thead>\n",
       "    <tr style=\"text-align: right;\">\n",
       "      <th></th>\n",
       "      <th>High</th>\n",
       "      <th>Low</th>\n",
       "      <th>Open</th>\n",
       "      <th>Close</th>\n",
       "      <th>Volume</th>\n",
       "      <th>Adj Close</th>\n",
       "    </tr>\n",
       "    <tr>\n",
       "      <th>Date</th>\n",
       "      <th></th>\n",
       "      <th></th>\n",
       "      <th></th>\n",
       "      <th></th>\n",
       "      <th></th>\n",
       "      <th></th>\n",
       "    </tr>\n",
       "  </thead>\n",
       "  <tbody>\n",
       "    <tr>\n",
       "      <th>2012-11-01</th>\n",
       "      <td>234.550003</td>\n",
       "      <td>231.339996</td>\n",
       "      <td>234.229996</td>\n",
       "      <td>232.139999</td>\n",
       "      <td>3905100</td>\n",
       "      <td>232.139999</td>\n",
       "    </tr>\n",
       "    <tr>\n",
       "      <th>2012-11-02</th>\n",
       "      <td>237.399994</td>\n",
       "      <td>232.110001</td>\n",
       "      <td>234.009995</td>\n",
       "      <td>232.419998</td>\n",
       "      <td>3374700</td>\n",
       "      <td>232.419998</td>\n",
       "    </tr>\n",
       "    <tr>\n",
       "      <th>2012-11-05</th>\n",
       "      <td>234.830002</td>\n",
       "      <td>230.110001</td>\n",
       "      <td>232.039993</td>\n",
       "      <td>234.330002</td>\n",
       "      <td>1846100</td>\n",
       "      <td>234.330002</td>\n",
       "    </tr>\n",
       "    <tr>\n",
       "      <th>2012-11-06</th>\n",
       "      <td>237.750000</td>\n",
       "      <td>234.449997</td>\n",
       "      <td>235.410004</td>\n",
       "      <td>237.559998</td>\n",
       "      <td>2661300</td>\n",
       "      <td>237.559998</td>\n",
       "    </tr>\n",
       "    <tr>\n",
       "      <th>2012-11-07</th>\n",
       "      <td>235.660004</td>\n",
       "      <td>229.419998</td>\n",
       "      <td>235.649994</td>\n",
       "      <td>232.059998</td>\n",
       "      <td>3624200</td>\n",
       "      <td>232.059998</td>\n",
       "    </tr>\n",
       "    <tr>\n",
       "      <th>2012-11-08</th>\n",
       "      <td>233.449997</td>\n",
       "      <td>227.100006</td>\n",
       "      <td>232.220001</td>\n",
       "      <td>227.350006</td>\n",
       "      <td>2982400</td>\n",
       "      <td>227.350006</td>\n",
       "    </tr>\n",
       "    <tr>\n",
       "      <th>2012-11-09</th>\n",
       "      <td>230.970001</td>\n",
       "      <td>224.600006</td>\n",
       "      <td>226.259995</td>\n",
       "      <td>226.309998</td>\n",
       "      <td>3092500</td>\n",
       "      <td>226.309998</td>\n",
       "    </tr>\n",
       "    <tr>\n",
       "      <th>2012-11-12</th>\n",
       "      <td>229.220001</td>\n",
       "      <td>225.410004</td>\n",
       "      <td>226.589996</td>\n",
       "      <td>226.470001</td>\n",
       "      <td>2128800</td>\n",
       "      <td>226.470001</td>\n",
       "    </tr>\n",
       "    <tr>\n",
       "      <th>2012-11-13</th>\n",
       "      <td>227.899994</td>\n",
       "      <td>224.710007</td>\n",
       "      <td>225.119995</td>\n",
       "      <td>226.600006</td>\n",
       "      <td>2629800</td>\n",
       "      <td>226.600006</td>\n",
       "    </tr>\n",
       "    <tr>\n",
       "      <th>2012-11-14</th>\n",
       "      <td>227.410004</td>\n",
       "      <td>222.509995</td>\n",
       "      <td>226.500000</td>\n",
       "      <td>222.949997</td>\n",
       "      <td>3034100</td>\n",
       "      <td>222.949997</td>\n",
       "    </tr>\n",
       "  </tbody>\n",
       "</table>\n",
       "</div>"
      ],
      "text/plain": [
       "                  High         Low        Open       Close   Volume  \\\n",
       "Date                                                                  \n",
       "2012-11-01  234.550003  231.339996  234.229996  232.139999  3905100   \n",
       "2012-11-02  237.399994  232.110001  234.009995  232.419998  3374700   \n",
       "2012-11-05  234.830002  230.110001  232.039993  234.330002  1846100   \n",
       "2012-11-06  237.750000  234.449997  235.410004  237.559998  2661300   \n",
       "2012-11-07  235.660004  229.419998  235.649994  232.059998  3624200   \n",
       "2012-11-08  233.449997  227.100006  232.220001  227.350006  2982400   \n",
       "2012-11-09  230.970001  224.600006  226.259995  226.309998  3092500   \n",
       "2012-11-12  229.220001  225.410004  226.589996  226.470001  2128800   \n",
       "2012-11-13  227.899994  224.710007  225.119995  226.600006  2629800   \n",
       "2012-11-14  227.410004  222.509995  226.500000  222.949997  3034100   \n",
       "\n",
       "             Adj Close  \n",
       "Date                    \n",
       "2012-11-01  232.139999  \n",
       "2012-11-02  232.419998  \n",
       "2012-11-05  234.330002  \n",
       "2012-11-06  237.559998  \n",
       "2012-11-07  232.059998  \n",
       "2012-11-08  227.350006  \n",
       "2012-11-09  226.309998  \n",
       "2012-11-12  226.470001  \n",
       "2012-11-13  226.600006  \n",
       "2012-11-14  222.949997  "
      ]
     },
     "execution_count": 12,
     "metadata": {},
     "output_type": "execute_result"
    }
   ],
   "source": [
    "amzn.head(10)"
   ]
  },
  {
   "cell_type": "code",
   "execution_count": 13,
   "metadata": {},
   "outputs": [
    {
     "data": {
      "text/html": [
       "<div>\n",
       "<style scoped>\n",
       "    .dataframe tbody tr th:only-of-type {\n",
       "        vertical-align: middle;\n",
       "    }\n",
       "\n",
       "    .dataframe tbody tr th {\n",
       "        vertical-align: top;\n",
       "    }\n",
       "\n",
       "    .dataframe thead th {\n",
       "        text-align: right;\n",
       "    }\n",
       "</style>\n",
       "<table border=\"1\" class=\"dataframe\">\n",
       "  <thead>\n",
       "    <tr style=\"text-align: right;\">\n",
       "      <th></th>\n",
       "      <th>High</th>\n",
       "      <th>Low</th>\n",
       "      <th>Open</th>\n",
       "      <th>Close</th>\n",
       "      <th>Volume</th>\n",
       "      <th>Adj Close</th>\n",
       "    </tr>\n",
       "    <tr>\n",
       "      <th>Date</th>\n",
       "      <th></th>\n",
       "      <th></th>\n",
       "      <th></th>\n",
       "      <th></th>\n",
       "      <th></th>\n",
       "      <th></th>\n",
       "    </tr>\n",
       "  </thead>\n",
       "  <tbody>\n",
       "    <tr>\n",
       "      <th>2022-03-15</th>\n",
       "      <td>2959.699951</td>\n",
       "      <td>2840.000000</td>\n",
       "      <td>2857.000000</td>\n",
       "      <td>2947.330078</td>\n",
       "      <td>3779200</td>\n",
       "      <td>2947.330078</td>\n",
       "    </tr>\n",
       "    <tr>\n",
       "      <th>2022-03-16</th>\n",
       "      <td>3063.000000</td>\n",
       "      <td>2947.070068</td>\n",
       "      <td>2970.000000</td>\n",
       "      <td>3062.080078</td>\n",
       "      <td>4247900</td>\n",
       "      <td>3062.080078</td>\n",
       "    </tr>\n",
       "    <tr>\n",
       "      <th>2022-03-17</th>\n",
       "      <td>3149.969971</td>\n",
       "      <td>3042.800049</td>\n",
       "      <td>3052.810059</td>\n",
       "      <td>3144.780029</td>\n",
       "      <td>3646700</td>\n",
       "      <td>3144.780029</td>\n",
       "    </tr>\n",
       "    <tr>\n",
       "      <th>2022-03-18</th>\n",
       "      <td>3231.879883</td>\n",
       "      <td>3120.219971</td>\n",
       "      <td>3136.260010</td>\n",
       "      <td>3225.010010</td>\n",
       "      <td>5141300</td>\n",
       "      <td>3225.010010</td>\n",
       "    </tr>\n",
       "    <tr>\n",
       "      <th>2022-03-18</th>\n",
       "      <td>3231.879883</td>\n",
       "      <td>3120.219971</td>\n",
       "      <td>3136.260010</td>\n",
       "      <td>3225.010010</td>\n",
       "      <td>4866459</td>\n",
       "      <td>3225.010010</td>\n",
       "    </tr>\n",
       "  </tbody>\n",
       "</table>\n",
       "</div>"
      ],
      "text/plain": [
       "                   High          Low         Open        Close   Volume  \\\n",
       "Date                                                                      \n",
       "2022-03-15  2959.699951  2840.000000  2857.000000  2947.330078  3779200   \n",
       "2022-03-16  3063.000000  2947.070068  2970.000000  3062.080078  4247900   \n",
       "2022-03-17  3149.969971  3042.800049  3052.810059  3144.780029  3646700   \n",
       "2022-03-18  3231.879883  3120.219971  3136.260010  3225.010010  5141300   \n",
       "2022-03-18  3231.879883  3120.219971  3136.260010  3225.010010  4866459   \n",
       "\n",
       "              Adj Close  \n",
       "Date                     \n",
       "2022-03-15  2947.330078  \n",
       "2022-03-16  3062.080078  \n",
       "2022-03-17  3144.780029  \n",
       "2022-03-18  3225.010010  \n",
       "2022-03-18  3225.010010  "
      ]
     },
     "execution_count": 13,
     "metadata": {},
     "output_type": "execute_result"
    }
   ],
   "source": [
    "amzn.tail()"
   ]
  },
  {
   "cell_type": "code",
   "execution_count": 14,
   "metadata": {},
   "outputs": [
    {
     "name": "stdout",
     "output_type": "stream",
     "text": [
      "<class 'pandas.core.frame.DataFrame'>\n",
      "DatetimeIndex: 2362 entries, 2012-11-01 to 2022-03-18\n",
      "Data columns (total 6 columns):\n",
      " #   Column     Non-Null Count  Dtype  \n",
      "---  ------     --------------  -----  \n",
      " 0   High       2362 non-null   float64\n",
      " 1   Low        2362 non-null   float64\n",
      " 2   Open       2362 non-null   float64\n",
      " 3   Close      2362 non-null   float64\n",
      " 4   Volume     2362 non-null   int64  \n",
      " 5   Adj Close  2362 non-null   float64\n",
      "dtypes: float64(5), int64(1)\n",
      "memory usage: 129.2 KB\n",
      "<class 'pandas.core.frame.DataFrame'>\n",
      "DatetimeIndex: 2362 entries, 2012-11-01 to 2022-03-18\n",
      "Data columns (total 6 columns):\n",
      " #   Column     Non-Null Count  Dtype  \n",
      "---  ------     --------------  -----  \n",
      " 0   High       2362 non-null   float64\n",
      " 1   Low        2362 non-null   float64\n",
      " 2   Open       2362 non-null   float64\n",
      " 3   Close      2362 non-null   float64\n",
      " 4   Volume     2362 non-null   float64\n",
      " 5   Adj Close  2362 non-null   float64\n",
      "dtypes: float64(6)\n",
      "memory usage: 129.2 KB\n",
      "None None\n"
     ]
    }
   ],
   "source": [
    "print(amzn.info(),goog.info())"
   ]
  },
  {
   "cell_type": "code",
   "execution_count": 16,
   "metadata": {},
   "outputs": [
    {
     "data": {
      "text/plain": [
       "Date\n",
       "2012-11-01     234.229996\n",
       "2012-11-02     234.009995\n",
       "2012-11-05     232.039993\n",
       "2012-11-06     235.410004\n",
       "2012-11-07     235.649994\n",
       "                 ...     \n",
       "2022-03-15    2857.000000\n",
       "2022-03-16    2970.000000\n",
       "2022-03-17    3052.810059\n",
       "2022-03-18    3136.260010\n",
       "2022-03-18    3136.260010\n",
       "Name: Open, Length: 2362, dtype: float64"
      ]
     },
     "execution_count": 16,
     "metadata": {},
     "output_type": "execute_result"
    }
   ],
   "source": [
    "# Filtering using .loc, .iloc index\n",
    "amzn.loc[:,'Open'] # Todas las filas de Open"
   ]
  },
  {
   "cell_type": "code",
   "execution_count": 18,
   "metadata": {},
   "outputs": [
    {
     "data": {
      "text/plain": [
       "234.22999572753906"
      ]
     },
     "execution_count": 18,
     "metadata": {},
     "output_type": "execute_result"
    }
   ],
   "source": [
    "amzn.loc['2012-11-01':'2013-11-01','Open'] # Rango de fechas \n",
    "amzn.loc['2012-11-01','Open'] # Una sola fecha\n"
   ]
  },
  {
   "cell_type": "code",
   "execution_count": 20,
   "metadata": {},
   "outputs": [
    {
     "data": {
      "text/plain": [
       "231.33999633789062"
      ]
     },
     "execution_count": 20,
     "metadata": {},
     "output_type": "execute_result"
    }
   ],
   "source": [
    "amzn.iloc[0,1] # Basado en numero de filas y columnas"
   ]
  },
  {
   "cell_type": "code",
   "execution_count": 21,
   "metadata": {},
   "outputs": [
    {
     "data": {
      "text/html": [
       "<div>\n",
       "<style scoped>\n",
       "    .dataframe tbody tr th:only-of-type {\n",
       "        vertical-align: middle;\n",
       "    }\n",
       "\n",
       "    .dataframe tbody tr th {\n",
       "        vertical-align: top;\n",
       "    }\n",
       "\n",
       "    .dataframe thead th {\n",
       "        text-align: right;\n",
       "    }\n",
       "</style>\n",
       "<table border=\"1\" class=\"dataframe\">\n",
       "  <thead>\n",
       "    <tr style=\"text-align: right;\">\n",
       "      <th></th>\n",
       "      <th>High</th>\n",
       "      <th>Low</th>\n",
       "      <th>Open</th>\n",
       "      <th>Close</th>\n",
       "      <th>Volume</th>\n",
       "      <th>Adj Close</th>\n",
       "    </tr>\n",
       "    <tr>\n",
       "      <th>Date</th>\n",
       "      <th></th>\n",
       "      <th></th>\n",
       "      <th></th>\n",
       "      <th></th>\n",
       "      <th></th>\n",
       "      <th></th>\n",
       "    </tr>\n",
       "  </thead>\n",
       "  <tbody>\n",
       "    <tr>\n",
       "      <th>2017-11-02</th>\n",
       "      <td>1101.939941</td>\n",
       "      <td>1086.869995</td>\n",
       "      <td>1097.810059</td>\n",
       "      <td>1094.219971</td>\n",
       "      <td>3684900</td>\n",
       "      <td>1094.219971</td>\n",
       "    </tr>\n",
       "    <tr>\n",
       "      <th>2017-11-03</th>\n",
       "      <td>1112.680054</td>\n",
       "      <td>1088.520020</td>\n",
       "      <td>1091.150024</td>\n",
       "      <td>1111.599976</td>\n",
       "      <td>3751500</td>\n",
       "      <td>1111.599976</td>\n",
       "    </tr>\n",
       "    <tr>\n",
       "      <th>2017-11-06</th>\n",
       "      <td>1125.410034</td>\n",
       "      <td>1108.770020</td>\n",
       "      <td>1109.150024</td>\n",
       "      <td>1120.660034</td>\n",
       "      <td>3381100</td>\n",
       "      <td>1120.660034</td>\n",
       "    </tr>\n",
       "    <tr>\n",
       "      <th>2017-11-07</th>\n",
       "      <td>1130.599976</td>\n",
       "      <td>1117.500000</td>\n",
       "      <td>1124.739990</td>\n",
       "      <td>1123.170044</td>\n",
       "      <td>2689000</td>\n",
       "      <td>1123.170044</td>\n",
       "    </tr>\n",
       "    <tr>\n",
       "      <th>2017-11-08</th>\n",
       "      <td>1135.540039</td>\n",
       "      <td>1119.109985</td>\n",
       "      <td>1122.819946</td>\n",
       "      <td>1132.880005</td>\n",
       "      <td>2581500</td>\n",
       "      <td>1132.880005</td>\n",
       "    </tr>\n",
       "    <tr>\n",
       "      <th>...</th>\n",
       "      <td>...</td>\n",
       "      <td>...</td>\n",
       "      <td>...</td>\n",
       "      <td>...</td>\n",
       "      <td>...</td>\n",
       "      <td>...</td>\n",
       "    </tr>\n",
       "    <tr>\n",
       "      <th>2022-03-15</th>\n",
       "      <td>2959.699951</td>\n",
       "      <td>2840.000000</td>\n",
       "      <td>2857.000000</td>\n",
       "      <td>2947.330078</td>\n",
       "      <td>3779200</td>\n",
       "      <td>2947.330078</td>\n",
       "    </tr>\n",
       "    <tr>\n",
       "      <th>2022-03-16</th>\n",
       "      <td>3063.000000</td>\n",
       "      <td>2947.070068</td>\n",
       "      <td>2970.000000</td>\n",
       "      <td>3062.080078</td>\n",
       "      <td>4247900</td>\n",
       "      <td>3062.080078</td>\n",
       "    </tr>\n",
       "    <tr>\n",
       "      <th>2022-03-17</th>\n",
       "      <td>3149.969971</td>\n",
       "      <td>3042.800049</td>\n",
       "      <td>3052.810059</td>\n",
       "      <td>3144.780029</td>\n",
       "      <td>3646700</td>\n",
       "      <td>3144.780029</td>\n",
       "    </tr>\n",
       "    <tr>\n",
       "      <th>2022-03-18</th>\n",
       "      <td>3231.879883</td>\n",
       "      <td>3120.219971</td>\n",
       "      <td>3136.260010</td>\n",
       "      <td>3225.010010</td>\n",
       "      <td>5141300</td>\n",
       "      <td>3225.010010</td>\n",
       "    </tr>\n",
       "    <tr>\n",
       "      <th>2022-03-18</th>\n",
       "      <td>3231.879883</td>\n",
       "      <td>3120.219971</td>\n",
       "      <td>3136.260010</td>\n",
       "      <td>3225.010010</td>\n",
       "      <td>4866459</td>\n",
       "      <td>3225.010010</td>\n",
       "    </tr>\n",
       "  </tbody>\n",
       "</table>\n",
       "<p>1102 rows × 6 columns</p>\n",
       "</div>"
      ],
      "text/plain": [
       "                   High          Low         Open        Close   Volume  \\\n",
       "Date                                                                      \n",
       "2017-11-02  1101.939941  1086.869995  1097.810059  1094.219971  3684900   \n",
       "2017-11-03  1112.680054  1088.520020  1091.150024  1111.599976  3751500   \n",
       "2017-11-06  1125.410034  1108.770020  1109.150024  1120.660034  3381100   \n",
       "2017-11-07  1130.599976  1117.500000  1124.739990  1123.170044  2689000   \n",
       "2017-11-08  1135.540039  1119.109985  1122.819946  1132.880005  2581500   \n",
       "...                 ...          ...          ...          ...      ...   \n",
       "2022-03-15  2959.699951  2840.000000  2857.000000  2947.330078  3779200   \n",
       "2022-03-16  3063.000000  2947.070068  2970.000000  3062.080078  4247900   \n",
       "2022-03-17  3149.969971  3042.800049  3052.810059  3144.780029  3646700   \n",
       "2022-03-18  3231.879883  3120.219971  3136.260010  3225.010010  5141300   \n",
       "2022-03-18  3231.879883  3120.219971  3136.260010  3225.010010  4866459   \n",
       "\n",
       "              Adj Close  \n",
       "Date                     \n",
       "2017-11-02  1094.219971  \n",
       "2017-11-03  1111.599976  \n",
       "2017-11-06  1120.660034  \n",
       "2017-11-07  1123.170044  \n",
       "2017-11-08  1132.880005  \n",
       "...                 ...  \n",
       "2022-03-15  2947.330078  \n",
       "2022-03-16  3062.080078  \n",
       "2022-03-17  3144.780029  \n",
       "2022-03-18  3225.010010  \n",
       "2022-03-18  3225.010010  \n",
       "\n",
       "[1102 rows x 6 columns]"
      ]
     },
     "execution_count": 21,
     "metadata": {},
     "output_type": "execute_result"
    }
   ],
   "source": [
    "amzn[amzn.index>'2017-11-01'] # comparanción en el index"
   ]
  },
  {
   "cell_type": "markdown",
   "metadata": {},
   "source": [
    "### Filtering with criteria"
   ]
  },
  {
   "cell_type": "code",
   "execution_count": 22,
   "metadata": {},
   "outputs": [
    {
     "name": "stdout",
     "output_type": "stream",
     "text": [
      "Mean: 4021081.143 std: 2138661.316\n"
     ]
    }
   ],
   "source": [
    "print('Mean: %.3f std: %.3f'% (amzn['Volume'].mean(),amzn['Volume'].std()))"
   ]
  },
  {
   "cell_type": "code",
   "execution_count": 23,
   "metadata": {},
   "outputs": [],
   "source": [
    "high = amzn['Volume'].mean()+2*amzn['Volume'].std()"
   ]
  },
  {
   "cell_type": "code",
   "execution_count": 27,
   "metadata": {},
   "outputs": [
    {
     "data": {
      "text/plain": [
       "0.04360711261642676"
      ]
     },
     "execution_count": 27,
     "metadata": {},
     "output_type": "execute_result"
    }
   ],
   "source": [
    "amzn[amzn.Volume>high]\n",
    "len(amzn[amzn.Volume>high])\n",
    "len(amzn[amzn.Volume>high])/len(amzn)\n"
   ]
  },
  {
   "cell_type": "markdown",
   "metadata": {},
   "source": [
    "### Adding Columns"
   ]
  },
  {
   "cell_type": "code",
   "execution_count": 30,
   "metadata": {},
   "outputs": [
    {
     "data": {
      "text/html": [
       "<div>\n",
       "<style scoped>\n",
       "    .dataframe tbody tr th:only-of-type {\n",
       "        vertical-align: middle;\n",
       "    }\n",
       "\n",
       "    .dataframe tbody tr th {\n",
       "        vertical-align: top;\n",
       "    }\n",
       "\n",
       "    .dataframe thead th {\n",
       "        text-align: right;\n",
       "    }\n",
       "</style>\n",
       "<table border=\"1\" class=\"dataframe\">\n",
       "  <thead>\n",
       "    <tr style=\"text-align: right;\">\n",
       "      <th></th>\n",
       "      <th>High</th>\n",
       "      <th>Low</th>\n",
       "      <th>Open</th>\n",
       "      <th>Close</th>\n",
       "      <th>Volume</th>\n",
       "      <th>Adj Close</th>\n",
       "      <th>pct_chng</th>\n",
       "    </tr>\n",
       "    <tr>\n",
       "      <th>Date</th>\n",
       "      <th></th>\n",
       "      <th></th>\n",
       "      <th></th>\n",
       "      <th></th>\n",
       "      <th></th>\n",
       "      <th></th>\n",
       "      <th></th>\n",
       "    </tr>\n",
       "  </thead>\n",
       "  <tbody>\n",
       "    <tr>\n",
       "      <th>2012-11-01</th>\n",
       "      <td>234.550003</td>\n",
       "      <td>231.339996</td>\n",
       "      <td>234.229996</td>\n",
       "      <td>232.139999</td>\n",
       "      <td>3905100</td>\n",
       "      <td>232.139999</td>\n",
       "      <td>NaN</td>\n",
       "    </tr>\n",
       "    <tr>\n",
       "      <th>2012-11-02</th>\n",
       "      <td>237.399994</td>\n",
       "      <td>232.110001</td>\n",
       "      <td>234.009995</td>\n",
       "      <td>232.419998</td>\n",
       "      <td>3374700</td>\n",
       "      <td>232.419998</td>\n",
       "      <td>0.001206</td>\n",
       "    </tr>\n",
       "    <tr>\n",
       "      <th>2012-11-05</th>\n",
       "      <td>234.830002</td>\n",
       "      <td>230.110001</td>\n",
       "      <td>232.039993</td>\n",
       "      <td>234.330002</td>\n",
       "      <td>1846100</td>\n",
       "      <td>234.330002</td>\n",
       "      <td>0.008218</td>\n",
       "    </tr>\n",
       "    <tr>\n",
       "      <th>2012-11-06</th>\n",
       "      <td>237.750000</td>\n",
       "      <td>234.449997</td>\n",
       "      <td>235.410004</td>\n",
       "      <td>237.559998</td>\n",
       "      <td>2661300</td>\n",
       "      <td>237.559998</td>\n",
       "      <td>0.013784</td>\n",
       "    </tr>\n",
       "    <tr>\n",
       "      <th>2012-11-07</th>\n",
       "      <td>235.660004</td>\n",
       "      <td>229.419998</td>\n",
       "      <td>235.649994</td>\n",
       "      <td>232.059998</td>\n",
       "      <td>3624200</td>\n",
       "      <td>232.059998</td>\n",
       "      <td>-0.023152</td>\n",
       "    </tr>\n",
       "  </tbody>\n",
       "</table>\n",
       "</div>"
      ],
      "text/plain": [
       "                  High         Low        Open       Close   Volume  \\\n",
       "Date                                                                  \n",
       "2012-11-01  234.550003  231.339996  234.229996  232.139999  3905100   \n",
       "2012-11-02  237.399994  232.110001  234.009995  232.419998  3374700   \n",
       "2012-11-05  234.830002  230.110001  232.039993  234.330002  1846100   \n",
       "2012-11-06  237.750000  234.449997  235.410004  237.559998  2661300   \n",
       "2012-11-07  235.660004  229.419998  235.649994  232.059998  3624200   \n",
       "\n",
       "             Adj Close  pct_chng  \n",
       "Date                              \n",
       "2012-11-01  232.139999       NaN  \n",
       "2012-11-02  232.419998  0.001206  \n",
       "2012-11-05  234.330002  0.008218  \n",
       "2012-11-06  237.559998  0.013784  \n",
       "2012-11-07  232.059998 -0.023152  "
      ]
     },
     "execution_count": 30,
     "metadata": {},
     "output_type": "execute_result"
    }
   ],
   "source": [
    "amzn['pct_chng']=amzn.Close.pct_change()\n",
    "amzn.head()"
   ]
  },
  {
   "cell_type": "markdown",
   "metadata": {},
   "source": [
    "### Appending data"
   ]
  },
  {
   "cell_type": "code",
   "execution_count": 31,
   "metadata": {},
   "outputs": [],
   "source": [
    "goog_l1=goog.loc['2017-11']\n",
    "amzn_l1=amzn.loc['2017-11']"
   ]
  },
  {
   "cell_type": "code",
   "execution_count": 32,
   "metadata": {},
   "outputs": [
    {
     "data": {
      "text/html": [
       "<div>\n",
       "<style scoped>\n",
       "    .dataframe tbody tr th:only-of-type {\n",
       "        vertical-align: middle;\n",
       "    }\n",
       "\n",
       "    .dataframe tbody tr th {\n",
       "        vertical-align: top;\n",
       "    }\n",
       "\n",
       "    .dataframe thead th {\n",
       "        text-align: right;\n",
       "    }\n",
       "</style>\n",
       "<table border=\"1\" class=\"dataframe\">\n",
       "  <thead>\n",
       "    <tr style=\"text-align: right;\">\n",
       "      <th></th>\n",
       "      <th>High</th>\n",
       "      <th>Low</th>\n",
       "      <th>Open</th>\n",
       "      <th>Close</th>\n",
       "      <th>Volume</th>\n",
       "      <th>Adj Close</th>\n",
       "      <th>pct_chng</th>\n",
       "    </tr>\n",
       "    <tr>\n",
       "      <th>Date</th>\n",
       "      <th></th>\n",
       "      <th></th>\n",
       "      <th></th>\n",
       "      <th></th>\n",
       "      <th></th>\n",
       "      <th></th>\n",
       "      <th></th>\n",
       "    </tr>\n",
       "  </thead>\n",
       "  <tbody>\n",
       "    <tr>\n",
       "      <th>2017-11-24</th>\n",
       "      <td>1186.839966</td>\n",
       "      <td>1160.699951</td>\n",
       "      <td>1160.699951</td>\n",
       "      <td>1186.000000</td>\n",
       "      <td>3528000.0</td>\n",
       "      <td>1186.000000</td>\n",
       "      <td>0.025810</td>\n",
       "    </tr>\n",
       "    <tr>\n",
       "      <th>2017-11-27</th>\n",
       "      <td>1213.410034</td>\n",
       "      <td>1191.150024</td>\n",
       "      <td>1202.660034</td>\n",
       "      <td>1195.829956</td>\n",
       "      <td>6744000.0</td>\n",
       "      <td>1195.829956</td>\n",
       "      <td>0.008288</td>\n",
       "    </tr>\n",
       "    <tr>\n",
       "      <th>2017-11-28</th>\n",
       "      <td>1205.339966</td>\n",
       "      <td>1188.520020</td>\n",
       "      <td>1204.880005</td>\n",
       "      <td>1193.599976</td>\n",
       "      <td>4559400.0</td>\n",
       "      <td>1193.599976</td>\n",
       "      <td>-0.001865</td>\n",
       "    </tr>\n",
       "    <tr>\n",
       "      <th>2017-11-29</th>\n",
       "      <td>1194.800049</td>\n",
       "      <td>1145.189941</td>\n",
       "      <td>1194.800049</td>\n",
       "      <td>1161.270020</td>\n",
       "      <td>9257500.0</td>\n",
       "      <td>1161.270020</td>\n",
       "      <td>-0.027086</td>\n",
       "    </tr>\n",
       "    <tr>\n",
       "      <th>2017-11-30</th>\n",
       "      <td>1178.569946</td>\n",
       "      <td>1160.000000</td>\n",
       "      <td>1167.099976</td>\n",
       "      <td>1176.750000</td>\n",
       "      <td>4509200.0</td>\n",
       "      <td>1176.750000</td>\n",
       "      <td>0.013330</td>\n",
       "    </tr>\n",
       "  </tbody>\n",
       "</table>\n",
       "</div>"
      ],
      "text/plain": [
       "                   High          Low         Open        Close     Volume  \\\n",
       "Date                                                                        \n",
       "2017-11-24  1186.839966  1160.699951  1160.699951  1186.000000  3528000.0   \n",
       "2017-11-27  1213.410034  1191.150024  1202.660034  1195.829956  6744000.0   \n",
       "2017-11-28  1205.339966  1188.520020  1204.880005  1193.599976  4559400.0   \n",
       "2017-11-29  1194.800049  1145.189941  1194.800049  1161.270020  9257500.0   \n",
       "2017-11-30  1178.569946  1160.000000  1167.099976  1176.750000  4509200.0   \n",
       "\n",
       "              Adj Close  pct_chng  \n",
       "Date                               \n",
       "2017-11-24  1186.000000  0.025810  \n",
       "2017-11-27  1195.829956  0.008288  \n",
       "2017-11-28  1193.599976 -0.001865  \n",
       "2017-11-29  1161.270020 -0.027086  \n",
       "2017-11-30  1176.750000  0.013330  "
      ]
     },
     "execution_count": 32,
     "metadata": {},
     "output_type": "execute_result"
    }
   ],
   "source": [
    "goog_l1.append(amzn_l1).tail()"
   ]
  },
  {
   "cell_type": "markdown",
   "metadata": {},
   "source": [
    "### Mergin Columns from different DataFrames"
   ]
  },
  {
   "cell_type": "code",
   "execution_count": 35,
   "metadata": {},
   "outputs": [
    {
     "data": {
      "text/html": [
       "<div>\n",
       "<style scoped>\n",
       "    .dataframe tbody tr th:only-of-type {\n",
       "        vertical-align: middle;\n",
       "    }\n",
       "\n",
       "    .dataframe tbody tr th {\n",
       "        vertical-align: top;\n",
       "    }\n",
       "\n",
       "    .dataframe thead th {\n",
       "        text-align: right;\n",
       "    }\n",
       "</style>\n",
       "<table border=\"1\" class=\"dataframe\">\n",
       "  <thead>\n",
       "    <tr style=\"text-align: right;\">\n",
       "      <th></th>\n",
       "      <th>AMZN</th>\n",
       "      <th>GOOG</th>\n",
       "    </tr>\n",
       "    <tr>\n",
       "      <th>Date</th>\n",
       "      <th></th>\n",
       "      <th></th>\n",
       "    </tr>\n",
       "  </thead>\n",
       "  <tbody>\n",
       "    <tr>\n",
       "      <th>2012-11-01</th>\n",
       "      <td>232.139999</td>\n",
       "      <td>342.511169</td>\n",
       "    </tr>\n",
       "    <tr>\n",
       "      <th>2012-11-02</th>\n",
       "      <td>232.419998</td>\n",
       "      <td>342.675568</td>\n",
       "    </tr>\n",
       "    <tr>\n",
       "      <th>2012-11-05</th>\n",
       "      <td>234.330002</td>\n",
       "      <td>340.204834</td>\n",
       "    </tr>\n",
       "    <tr>\n",
       "      <th>2012-11-06</th>\n",
       "      <td>237.559998</td>\n",
       "      <td>339.587158</td>\n",
       "    </tr>\n",
       "    <tr>\n",
       "      <th>2012-11-07</th>\n",
       "      <td>232.059998</td>\n",
       "      <td>332.314392</td>\n",
       "    </tr>\n",
       "  </tbody>\n",
       "</table>\n",
       "</div>"
      ],
      "text/plain": [
       "                  AMZN        GOOG\n",
       "Date                              \n",
       "2012-11-01  232.139999  342.511169\n",
       "2012-11-02  232.419998  342.675568\n",
       "2012-11-05  234.330002  340.204834\n",
       "2012-11-06  237.559998  339.587158\n",
       "2012-11-07  232.059998  332.314392"
      ]
     },
     "execution_count": 35,
     "metadata": {},
     "output_type": "execute_result"
    }
   ],
   "source": [
    "close = pd.DataFrame({'AMZN':amzn.Close,'GOOG':goog.Close})\n",
    "close.head()"
   ]
  },
  {
   "cell_type": "markdown",
   "metadata": {},
   "source": [
    "### Grouping and sorting data"
   ]
  },
  {
   "cell_type": "code",
   "execution_count": 36,
   "metadata": {},
   "outputs": [
    {
     "data": {
      "text/html": [
       "<div>\n",
       "<style scoped>\n",
       "    .dataframe tbody tr th:only-of-type {\n",
       "        vertical-align: middle;\n",
       "    }\n",
       "\n",
       "    .dataframe tbody tr th {\n",
       "        vertical-align: top;\n",
       "    }\n",
       "\n",
       "    .dataframe thead th {\n",
       "        text-align: right;\n",
       "    }\n",
       "</style>\n",
       "<table border=\"1\" class=\"dataframe\">\n",
       "  <thead>\n",
       "    <tr style=\"text-align: right;\">\n",
       "      <th></th>\n",
       "      <th>High</th>\n",
       "      <th>Low</th>\n",
       "      <th>Close</th>\n",
       "      <th>Volume</th>\n",
       "      <th>Adj Close</th>\n",
       "    </tr>\n",
       "    <tr>\n",
       "      <th>Open</th>\n",
       "      <th></th>\n",
       "      <th></th>\n",
       "      <th></th>\n",
       "      <th></th>\n",
       "      <th></th>\n",
       "    </tr>\n",
       "  </thead>\n",
       "  <tbody>\n",
       "    <tr>\n",
       "      <th>321.788849</th>\n",
       "      <td>325.290741</td>\n",
       "      <td>316.812500</td>\n",
       "      <td>322.381622</td>\n",
       "      <td>6902174.0</td>\n",
       "      <td>322.381622</td>\n",
       "    </tr>\n",
       "    <tr>\n",
       "      <th>323.786377</th>\n",
       "      <td>328.767700</td>\n",
       "      <td>320.747772</td>\n",
       "      <td>322.421478</td>\n",
       "      <td>3711660.0</td>\n",
       "      <td>322.421478</td>\n",
       "    </tr>\n",
       "    <tr>\n",
       "      <th>326.102692</th>\n",
       "      <td>332.922119</td>\n",
       "      <td>323.935822</td>\n",
       "      <td>330.277039</td>\n",
       "      <td>6251545.0</td>\n",
       "      <td>330.277039</td>\n",
       "    </tr>\n",
       "    <tr>\n",
       "      <th>326.625732</th>\n",
       "      <td>333.211029</td>\n",
       "      <td>326.541046</td>\n",
       "      <td>332.857361</td>\n",
       "      <td>4754153.0</td>\n",
       "      <td>332.857361</td>\n",
       "    </tr>\n",
       "    <tr>\n",
       "      <th>328.852386</th>\n",
       "      <td>336.239685</td>\n",
       "      <td>327.771423</td>\n",
       "      <td>334.102692</td>\n",
       "      <td>5036206.0</td>\n",
       "      <td>334.102692</td>\n",
       "    </tr>\n",
       "    <tr>\n",
       "      <th>...</th>\n",
       "      <td>...</td>\n",
       "      <td>...</td>\n",
       "      <td>...</td>\n",
       "      <td>...</td>\n",
       "      <td>...</td>\n",
       "    </tr>\n",
       "    <tr>\n",
       "      <th>2994.919922</th>\n",
       "      <td>3007.570068</td>\n",
       "      <td>2950.139893</td>\n",
       "      <td>2984.969971</td>\n",
       "      <td>843800.0</td>\n",
       "      <td>2984.969971</td>\n",
       "    </tr>\n",
       "    <tr>\n",
       "      <th>3000.000000</th>\n",
       "      <td>6030.229980</td>\n",
       "      <td>5955.449951</td>\n",
       "      <td>5974.790039</td>\n",
       "      <td>1731800.0</td>\n",
       "      <td>5974.790039</td>\n",
       "    </tr>\n",
       "    <tr>\n",
       "      <th>3002.834961</th>\n",
       "      <td>3014.889893</td>\n",
       "      <td>2940.110107</td>\n",
       "      <td>2941.570068</td>\n",
       "      <td>1230400.0</td>\n",
       "      <td>2941.570068</td>\n",
       "    </tr>\n",
       "    <tr>\n",
       "      <th>3020.000000</th>\n",
       "      <td>3037.000000</td>\n",
       "      <td>2997.750000</td>\n",
       "      <td>2999.050049</td>\n",
       "      <td>988300.0</td>\n",
       "      <td>2999.050049</td>\n",
       "    </tr>\n",
       "    <tr>\n",
       "      <th>3037.270020</th>\n",
       "      <td>3042.000000</td>\n",
       "      <td>2911.149902</td>\n",
       "      <td>2960.729980</td>\n",
       "      <td>4487500.0</td>\n",
       "      <td>2960.729980</td>\n",
       "    </tr>\n",
       "  </tbody>\n",
       "</table>\n",
       "<p>2305 rows × 5 columns</p>\n",
       "</div>"
      ],
      "text/plain": [
       "                    High          Low        Close     Volume    Adj Close\n",
       "Open                                                                      \n",
       "321.788849    325.290741   316.812500   322.381622  6902174.0   322.381622\n",
       "323.786377    328.767700   320.747772   322.421478  3711660.0   322.421478\n",
       "326.102692    332.922119   323.935822   330.277039  6251545.0   330.277039\n",
       "326.625732    333.211029   326.541046   332.857361  4754153.0   332.857361\n",
       "328.852386    336.239685   327.771423   334.102692  5036206.0   334.102692\n",
       "...                  ...          ...          ...        ...          ...\n",
       "2994.919922  3007.570068  2950.139893  2984.969971   843800.0  2984.969971\n",
       "3000.000000  6030.229980  5955.449951  5974.790039  1731800.0  5974.790039\n",
       "3002.834961  3014.889893  2940.110107  2941.570068  1230400.0  2941.570068\n",
       "3020.000000  3037.000000  2997.750000  2999.050049   988300.0  2999.050049\n",
       "3037.270020  3042.000000  2911.149902  2960.729980  4487500.0  2960.729980\n",
       "\n",
       "[2305 rows x 5 columns]"
      ]
     },
     "execution_count": 36,
     "metadata": {},
     "output_type": "execute_result"
    }
   ],
   "source": [
    "goog.groupby(['Open']).sum()"
   ]
  },
  {
   "cell_type": "code",
   "execution_count": 42,
   "metadata": {},
   "outputs": [
    {
     "data": {
      "text/plain": [
       "<AxesSubplot:xlabel='Date'>"
      ]
     },
     "execution_count": 42,
     "metadata": {},
     "output_type": "execute_result"
    },
    {
     "data": {
      "image/png": "[encoded data removed]",
      "text/plain": [
       "<Figure size 432x288 with 1 Axes>"
      ]
     },
     "metadata": {
      "needs_background": "light"
     },
     "output_type": "display_data"
    }
   ],
   "source": [
    "goog['Volume'][goog.index>'2017'].resample('M').mean().plot() #Mean by month"
   ]
  },
  {
   "cell_type": "markdown",
   "metadata": {},
   "source": [
    "### Cumulative Sum and Rolling Calculations"
   ]
  },
  {
   "cell_type": "code",
   "execution_count": 43,
   "metadata": {},
   "outputs": [],
   "source": [
    "amzn_change= np.log(amzn.Close/amzn.Close.shift(1))\n",
    "goog_change= np.log(goog.Close/goog.Close.shift(1))"
   ]
  },
  {
   "cell_type": "code",
   "execution_count": 44,
   "metadata": {},
   "outputs": [
    {
     "data": {
      "text/plain": [
       "<AxesSubplot:xlabel='Date'>"
      ]
     },
     "execution_count": 44,
     "metadata": {},
     "output_type": "execute_result"
    },
    {
     "data": {
      "image/png": "[encoded data removed]",
      "text/plain": [
       "<Figure size 432x288 with 1 Axes>"
      ]
     },
     "metadata": {
      "needs_background": "light"
     },
     "output_type": "display_data"
    }
   ],
   "source": [
    "amzn_change.cumsum().plot()\n",
    "goog_change.cumsum().plot()"
   ]
  },
  {
   "cell_type": "markdown",
   "metadata": {},
   "source": [
    "### Create new dataFrame and save to csv"
   ]
  },
  {
   "cell_type": "code",
   "execution_count": 45,
   "metadata": {},
   "outputs": [
    {
     "data": {
      "text/html": [
       "<div>\n",
       "<style scoped>\n",
       "    .dataframe tbody tr th:only-of-type {\n",
       "        vertical-align: middle;\n",
       "    }\n",
       "\n",
       "    .dataframe tbody tr th {\n",
       "        vertical-align: top;\n",
       "    }\n",
       "\n",
       "    .dataframe thead th {\n",
       "        text-align: right;\n",
       "    }\n",
       "</style>\n",
       "<table border=\"1\" class=\"dataframe\">\n",
       "  <thead>\n",
       "    <tr style=\"text-align: right;\">\n",
       "      <th></th>\n",
       "      <th>AMZN</th>\n",
       "      <th>GOOG</th>\n",
       "    </tr>\n",
       "    <tr>\n",
       "      <th>Date</th>\n",
       "      <th></th>\n",
       "      <th></th>\n",
       "    </tr>\n",
       "  </thead>\n",
       "  <tbody>\n",
       "    <tr>\n",
       "      <th>2012-11-02</th>\n",
       "      <td>0.001205</td>\n",
       "      <td>0.000480</td>\n",
       "    </tr>\n",
       "    <tr>\n",
       "      <th>2012-11-05</th>\n",
       "      <td>0.008184</td>\n",
       "      <td>-0.007236</td>\n",
       "    </tr>\n",
       "    <tr>\n",
       "      <th>2012-11-06</th>\n",
       "      <td>0.013690</td>\n",
       "      <td>-0.001817</td>\n",
       "    </tr>\n",
       "    <tr>\n",
       "      <th>2012-11-07</th>\n",
       "      <td>-0.023424</td>\n",
       "      <td>-0.021649</td>\n",
       "    </tr>\n",
       "    <tr>\n",
       "      <th>2012-11-08</th>\n",
       "      <td>-0.020505</td>\n",
       "      <td>-0.022481</td>\n",
       "    </tr>\n",
       "  </tbody>\n",
       "</table>\n",
       "</div>"
      ],
      "text/plain": [
       "                AMZN      GOOG\n",
       "Date                          \n",
       "2012-11-02  0.001205  0.000480\n",
       "2012-11-05  0.008184 -0.007236\n",
       "2012-11-06  0.013690 -0.001817\n",
       "2012-11-07 -0.023424 -0.021649\n",
       "2012-11-08 -0.020505 -0.022481"
      ]
     },
     "execution_count": 45,
     "metadata": {},
     "output_type": "execute_result"
    }
   ],
   "source": [
    "new=pd.DataFrame({'AMZN':amzn_change[1:],'GOOG':goog_change[1:]}) # No tener en cuenta primera fila\n",
    "new.head()"
   ]
  },
  {
   "cell_type": "code",
   "execution_count": 46,
   "metadata": {},
   "outputs": [],
   "source": [
    "new.to_csv('stocks.csv')"
   ]
  },
  {
   "cell_type": "code",
   "execution_count": 47,
   "metadata": {},
   "outputs": [
    {
     "data": {
      "text/html": [
       "<div>\n",
       "<style scoped>\n",
       "    .dataframe tbody tr th:only-of-type {\n",
       "        vertical-align: middle;\n",
       "    }\n",
       "\n",
       "    .dataframe tbody tr th {\n",
       "        vertical-align: top;\n",
       "    }\n",
       "\n",
       "    .dataframe thead th {\n",
       "        text-align: right;\n",
       "    }\n",
       "</style>\n",
       "<table border=\"1\" class=\"dataframe\">\n",
       "  <thead>\n",
       "    <tr style=\"text-align: right;\">\n",
       "      <th></th>\n",
       "      <th>Date</th>\n",
       "      <th>AMZN</th>\n",
       "      <th>GOOG</th>\n",
       "    </tr>\n",
       "  </thead>\n",
       "  <tbody>\n",
       "    <tr>\n",
       "      <th>0</th>\n",
       "      <td>2012-11-02</td>\n",
       "      <td>0.001205</td>\n",
       "      <td>0.000480</td>\n",
       "    </tr>\n",
       "    <tr>\n",
       "      <th>1</th>\n",
       "      <td>2012-11-05</td>\n",
       "      <td>0.008184</td>\n",
       "      <td>-0.007236</td>\n",
       "    </tr>\n",
       "    <tr>\n",
       "      <th>2</th>\n",
       "      <td>2012-11-06</td>\n",
       "      <td>0.013690</td>\n",
       "      <td>-0.001817</td>\n",
       "    </tr>\n",
       "    <tr>\n",
       "      <th>3</th>\n",
       "      <td>2012-11-07</td>\n",
       "      <td>-0.023424</td>\n",
       "      <td>-0.021649</td>\n",
       "    </tr>\n",
       "    <tr>\n",
       "      <th>4</th>\n",
       "      <td>2012-11-08</td>\n",
       "      <td>-0.020505</td>\n",
       "      <td>-0.022481</td>\n",
       "    </tr>\n",
       "  </tbody>\n",
       "</table>\n",
       "</div>"
      ],
      "text/plain": [
       "         Date      AMZN      GOOG\n",
       "0  2012-11-02  0.001205  0.000480\n",
       "1  2012-11-05  0.008184 -0.007236\n",
       "2  2012-11-06  0.013690 -0.001817\n",
       "3  2012-11-07 -0.023424 -0.021649\n",
       "4  2012-11-08 -0.020505 -0.022481"
      ]
     },
     "execution_count": 47,
     "metadata": {},
     "output_type": "execute_result"
    }
   ],
   "source": [
    "pd.read_csv('stocks.csv').head()"
   ]
  },
  {
   "cell_type": "markdown",
   "metadata": {},
   "source": [
    "### Change the index and remove columns"
   ]
  },
  {
   "cell_type": "code",
   "execution_count": 48,
   "metadata": {},
   "outputs": [
    {
     "data": {
      "text/html": [
       "<div>\n",
       "<style scoped>\n",
       "    .dataframe tbody tr th:only-of-type {\n",
       "        vertical-align: middle;\n",
       "    }\n",
       "\n",
       "    .dataframe tbody tr th {\n",
       "        vertical-align: top;\n",
       "    }\n",
       "\n",
       "    .dataframe thead th {\n",
       "        text-align: right;\n",
       "    }\n",
       "</style>\n",
       "<table border=\"1\" class=\"dataframe\">\n",
       "  <thead>\n",
       "    <tr style=\"text-align: right;\">\n",
       "      <th></th>\n",
       "      <th>Date</th>\n",
       "      <th>AMZN</th>\n",
       "      <th>GOOG</th>\n",
       "    </tr>\n",
       "    <tr>\n",
       "      <th>Date</th>\n",
       "      <th></th>\n",
       "      <th></th>\n",
       "      <th></th>\n",
       "    </tr>\n",
       "  </thead>\n",
       "  <tbody>\n",
       "    <tr>\n",
       "      <th>2012-11-02</th>\n",
       "      <td>2012-11-02</td>\n",
       "      <td>0.001205</td>\n",
       "      <td>0.000480</td>\n",
       "    </tr>\n",
       "    <tr>\n",
       "      <th>2012-11-05</th>\n",
       "      <td>2012-11-05</td>\n",
       "      <td>0.008184</td>\n",
       "      <td>-0.007236</td>\n",
       "    </tr>\n",
       "    <tr>\n",
       "      <th>2012-11-06</th>\n",
       "      <td>2012-11-06</td>\n",
       "      <td>0.013690</td>\n",
       "      <td>-0.001817</td>\n",
       "    </tr>\n",
       "    <tr>\n",
       "      <th>2012-11-07</th>\n",
       "      <td>2012-11-07</td>\n",
       "      <td>-0.023424</td>\n",
       "      <td>-0.021649</td>\n",
       "    </tr>\n",
       "    <tr>\n",
       "      <th>2012-11-08</th>\n",
       "      <td>2012-11-08</td>\n",
       "      <td>-0.020505</td>\n",
       "      <td>-0.022481</td>\n",
       "    </tr>\n",
       "  </tbody>\n",
       "</table>\n",
       "</div>"
      ],
      "text/plain": [
       "                  Date      AMZN      GOOG\n",
       "Date                                      \n",
       "2012-11-02  2012-11-02  0.001205  0.000480\n",
       "2012-11-05  2012-11-05  0.008184 -0.007236\n",
       "2012-11-06  2012-11-06  0.013690 -0.001817\n",
       "2012-11-07  2012-11-07 -0.023424 -0.021649\n",
       "2012-11-08  2012-11-08 -0.020505 -0.022481"
      ]
     },
     "execution_count": 48,
     "metadata": {},
     "output_type": "execute_result"
    }
   ],
   "source": [
    "new_stocks=pd.read_csv('stocks.csv')\n",
    "new_stocks.index=new_stocks.Date\n",
    "new_stocks.head()"
   ]
  },
  {
   "cell_type": "code",
   "execution_count": 49,
   "metadata": {},
   "outputs": [
    {
     "data": {
      "text/html": [
       "<div>\n",
       "<style scoped>\n",
       "    .dataframe tbody tr th:only-of-type {\n",
       "        vertical-align: middle;\n",
       "    }\n",
       "\n",
       "    .dataframe tbody tr th {\n",
       "        vertical-align: top;\n",
       "    }\n",
       "\n",
       "    .dataframe thead th {\n",
       "        text-align: right;\n",
       "    }\n",
       "</style>\n",
       "<table border=\"1\" class=\"dataframe\">\n",
       "  <thead>\n",
       "    <tr style=\"text-align: right;\">\n",
       "      <th></th>\n",
       "      <th>AMZN</th>\n",
       "      <th>GOOG</th>\n",
       "    </tr>\n",
       "    <tr>\n",
       "      <th>Date</th>\n",
       "      <th></th>\n",
       "      <th></th>\n",
       "    </tr>\n",
       "  </thead>\n",
       "  <tbody>\n",
       "    <tr>\n",
       "      <th>2012-11-02</th>\n",
       "      <td>0.001205</td>\n",
       "      <td>0.000480</td>\n",
       "    </tr>\n",
       "    <tr>\n",
       "      <th>2012-11-05</th>\n",
       "      <td>0.008184</td>\n",
       "      <td>-0.007236</td>\n",
       "    </tr>\n",
       "    <tr>\n",
       "      <th>2012-11-06</th>\n",
       "      <td>0.013690</td>\n",
       "      <td>-0.001817</td>\n",
       "    </tr>\n",
       "    <tr>\n",
       "      <th>2012-11-07</th>\n",
       "      <td>-0.023424</td>\n",
       "      <td>-0.021649</td>\n",
       "    </tr>\n",
       "    <tr>\n",
       "      <th>2012-11-08</th>\n",
       "      <td>-0.020505</td>\n",
       "      <td>-0.022481</td>\n",
       "    </tr>\n",
       "  </tbody>\n",
       "</table>\n",
       "</div>"
      ],
      "text/plain": [
       "                AMZN      GOOG\n",
       "Date                          \n",
       "2012-11-02  0.001205  0.000480\n",
       "2012-11-05  0.008184 -0.007236\n",
       "2012-11-06  0.013690 -0.001817\n",
       "2012-11-07 -0.023424 -0.021649\n",
       "2012-11-08 -0.020505 -0.022481"
      ]
     },
     "execution_count": 49,
     "metadata": {},
     "output_type": "execute_result"
    }
   ],
   "source": [
    "new_stocks.drop(['Date'],axis=1,inplace=True)\n",
    "new_stocks.head()"
   ]
  },
  {
   "cell_type": "markdown",
   "metadata": {},
   "source": [
    "### Rename Columns"
   ]
  },
  {
   "cell_type": "code",
   "execution_count": 50,
   "metadata": {},
   "outputs": [
    {
     "data": {
      "text/html": [
       "<div>\n",
       "<style scoped>\n",
       "    .dataframe tbody tr th:only-of-type {\n",
       "        vertical-align: middle;\n",
       "    }\n",
       "\n",
       "    .dataframe tbody tr th {\n",
       "        vertical-align: top;\n",
       "    }\n",
       "\n",
       "    .dataframe thead th {\n",
       "        text-align: right;\n",
       "    }\n",
       "</style>\n",
       "<table border=\"1\" class=\"dataframe\">\n",
       "  <thead>\n",
       "    <tr style=\"text-align: right;\">\n",
       "      <th></th>\n",
       "      <th>AMZN_chng</th>\n",
       "      <th>GOOG</th>\n",
       "    </tr>\n",
       "    <tr>\n",
       "      <th>Date</th>\n",
       "      <th></th>\n",
       "      <th></th>\n",
       "    </tr>\n",
       "  </thead>\n",
       "  <tbody>\n",
       "    <tr>\n",
       "      <th>2012-11-02</th>\n",
       "      <td>0.001205</td>\n",
       "      <td>0.000480</td>\n",
       "    </tr>\n",
       "    <tr>\n",
       "      <th>2012-11-05</th>\n",
       "      <td>0.008184</td>\n",
       "      <td>-0.007236</td>\n",
       "    </tr>\n",
       "    <tr>\n",
       "      <th>2012-11-06</th>\n",
       "      <td>0.013690</td>\n",
       "      <td>-0.001817</td>\n",
       "    </tr>\n",
       "    <tr>\n",
       "      <th>2012-11-07</th>\n",
       "      <td>-0.023424</td>\n",
       "      <td>-0.021649</td>\n",
       "    </tr>\n",
       "    <tr>\n",
       "      <th>2012-11-08</th>\n",
       "      <td>-0.020505</td>\n",
       "      <td>-0.022481</td>\n",
       "    </tr>\n",
       "  </tbody>\n",
       "</table>\n",
       "</div>"
      ],
      "text/plain": [
       "            AMZN_chng      GOOG\n",
       "Date                           \n",
       "2012-11-02   0.001205  0.000480\n",
       "2012-11-05   0.008184 -0.007236\n",
       "2012-11-06   0.013690 -0.001817\n",
       "2012-11-07  -0.023424 -0.021649\n",
       "2012-11-08  -0.020505 -0.022481"
      ]
     },
     "execution_count": 50,
     "metadata": {},
     "output_type": "execute_result"
    }
   ],
   "source": [
    "new_stocks.rename(columns={'AMZN':'AMZN_chng'},inplace=True)\n",
    "new_stocks.head()"
   ]
  },
  {
   "cell_type": "code",
   "execution_count": null,
   "metadata": {},
   "outputs": [],
   "source": []
  }
 ],
 "metadata": {
  "interpreter": {
   "hash": "538462f0427ccd1d9c5c27f71220650c66946fd3506e6ba46e264489e438cddd"
  },
  "kernelspec": {
   "display_name": "Python 3.9.1 64-bit",
   "language": "python",
   "name": "python3"
  },
  "language_info": {
   "codemirror_mode": {
    "name": "ipython",
    "version": 3
   },
   "file_extension": ".py",
   "mimetype": "text/x-python",
   "name": "python",
   "nbconvert_exporter": "python",
   "pygments_lexer": "ipython3",
   "version": "3.9.1"
  },
  "orig_nbformat": 4
 },
 "nbformat": 4,
 "nbformat_minor": 2
}
