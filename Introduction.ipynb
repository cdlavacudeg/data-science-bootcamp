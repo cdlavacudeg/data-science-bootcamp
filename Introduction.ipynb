{
 "cells": [
  {
   "cell_type": "markdown",
   "metadata": {},
   "source": [
    "# Numpy Fundamentals\n",
    "[Link](https://www.youtube.com/watch?v=rN0TREj8G7U&t=36s)"
   ]
  },
  {
   "cell_type": "markdown",
   "metadata": {},
   "source": [
    "## What & why\n",
    "- What is NumPy?\n",
    "  - NumPy stands for Numerical Python\n",
    "  It is an open - source Python library\n",
    "  - It is used for working with numerical data in Python\n",
    "- Why NumPy?\n",
    "    - Makes the numerical computations easier and faster\n",
    "    - Consumes less memory"
   ]
  },
  {
   "cell_type": "code",
   "execution_count": 1,
   "metadata": {},
   "outputs": [
    {
     "data": {
      "text/plain": [
       "array([1, 2, 3])"
      ]
     },
     "execution_count": 1,
     "metadata": {},
     "output_type": "execute_result"
    }
   ],
   "source": [
    "import numpy as np\n",
    "a=np.array([1,2,3])\n",
    "a"
   ]
  },
  {
   "cell_type": "code",
   "execution_count": 4,
   "metadata": {},
   "outputs": [
    {
     "name": "stdout",
     "output_type": "stream",
     "text": [
      "28000\n",
      "4000\n"
     ]
    }
   ],
   "source": [
    "# Comparation with python list\n",
    "\n",
    "import time\n",
    "import sys\n",
    "# Firt the size of data\n",
    "l=range(1000)\n",
    "print(sys.getsizeof(1)*len(l))\n",
    "\n",
    "array=np.arange(1000)\n",
    "print(array.size * array.itemsize)"
   ]
  },
  {
   "cell_type": "code",
   "execution_count": 15,
   "metadata": {},
   "outputs": [
    {
     "name": "stdout",
     "output_type": "stream",
     "text": [
      "python list took:  301.19895935058594\n",
      "numpy array took:  17.012596130371094\n"
     ]
    }
   ],
   "source": [
    "# Second the time (faster)\n",
    "SIZE=1000000\n",
    "l1=range(SIZE)\n",
    "l2=range(SIZE)\n",
    "\n",
    "a1=np.arange(SIZE)\n",
    "a2=np.arange(SIZE)\n",
    "# Python list\n",
    "start= time.time()\n",
    "result=[(x+y)for x,y in zip(l1,l2)]\n",
    "print(\"python list took: \",(time.time()-start)*1000)\n",
    "# Numpy array\n",
    "start=time.time()\n",
    "result=a1+a2\n",
    "print(\"numpy array took: \",(time.time()-start)*1000)"
   ]
  },
  {
   "cell_type": "code",
   "execution_count": 16,
   "metadata": {},
   "outputs": [
    {
     "data": {
      "text/plain": [
       "array([5, 7, 9])"
      ]
     },
     "execution_count": 16,
     "metadata": {},
     "output_type": "execute_result"
    }
   ],
   "source": [
    "a1=np.array([1,2,3])\n",
    "a2=np.array([4,5,6])\n",
    "a2+a1 # substraction,multiplycation, divition"
   ]
  }
 ],
 "metadata": {
  "interpreter": {
   "hash": "538462f0427ccd1d9c5c27f71220650c66946fd3506e6ba46e264489e438cddd"
  },
  "kernelspec": {
   "display_name": "Python 3.9.1 64-bit",
   "language": "python",
   "name": "python3"
  },
  "language_info": {
   "codemirror_mode": {
    "name": "ipython",
    "version": 3
   },
   "file_extension": ".py",
   "mimetype": "text/x-python",
   "name": "python",
   "nbconvert_exporter": "python",
   "pygments_lexer": "ipython3",
   "version": "3.9.1"
  },
  "orig_nbformat": 4
 },
 "nbformat": 4,
 "nbformat_minor": 2
}
